{
 "cells": [
  {
   "cell_type": "code",
   "execution_count": null,
   "metadata": {},
   "outputs": [],
   "source": [
    "import os \n",
    "from langchain.llms import GooglePalm\n",
    "from langchain.embeddings import GooglePalmEmbeddings\n",
    "from langchain.vectorstores import FAISS\n",
    "from langchain.text_splitter import RecursiveCharacterTextSplitter, CharacterTextSplitter\n",
    "from langchain.document_loaders import UnstructuredPDFLoader\n",
    "from langchain.document_transformers import EmbeddingsRedundantFilter\n",
    "from langchain.retrievers import ContextualCompressionRetriever\n",
    "from langchain.retrievers.document_compressors import DocumentCompressorPipeline, EmbeddingsFilter\n",
    "from langchain.document_loaders import PyPDFLoader\n",
    "from langchain.chains import RetrievalQA\n",
    "from tqdm import tqdm"
   ]
  },
  {
   "cell_type": "code",
   "execution_count": null,
   "metadata": {},
   "outputs": [],
   "source": [
    "file_names = os.listdir(\"./data/\")"
   ]
  },
  {
   "cell_type": "code",
   "execution_count": null,
   "metadata": {},
   "outputs": [],
   "source": [
    "for file in tqdm(file_names):\n",
    "    loader = PyPDFLoader(f\"./data/{file}\")\n",
    "    documents = loader.load()\n",
    "    # print(file.split(\".\")[0])\n",
    "    text_splitter = RecursiveCharacterTextSplitter()\n",
    "    texts = text_splitter.split_documents(documents)\n",
    "    docsearch = FAISS.from_documents(texts, embeddings)\n",
    "    docsearch.save_local(folder_path='FAISS_VS', index_name=f\"{file.split('.')[0]}_index\")\n",
    "\n",
    "# docsearch = FAISS.load_local(folder_path='FAISS_VS', embeddings=embeddings, index_name='BMO_AR2022')\n",
    "# retriever = docsearch.as_retriever()"
   ]
  }
 ],
 "metadata": {
  "language_info": {
   "name": "python"
  },
  "orig_nbformat": 4
 },
 "nbformat": 4,
 "nbformat_minor": 2
}
